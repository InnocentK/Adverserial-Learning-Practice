{
 "cells": [
  {
   "cell_type": "markdown",
   "metadata": {},
   "source": [
    "# Lab 4: Adversarial Training with MNIST"
   ]
  },
  {
   "cell_type": "code",
   "execution_count": 1,
   "metadata": {},
   "outputs": [],
   "source": [
    "import os\n",
    "import sys\n",
    "import numpy as np\n",
    "\n",
    "import torch\n",
    "import torch.nn as nn\n",
    "import torch.optim as optim\n",
    "\n",
    "import torchvision.utils\n",
    "from torchvision import models\n",
    "import torchvision.datasets as dsets\n",
    "import torchvision.transforms as transforms\n",
    "\n",
    "import torchattacks\n",
    "from torchattacks import RPGD, FGSM\n",
    "import time"
   ]
  },
  {
   "cell_type": "code",
   "execution_count": 2,
   "metadata": {},
   "outputs": [],
   "source": [
    "import matplotlib.pyplot as plt\n",
    "%matplotlib inline\n",
    "device = 'cuda' if torch.cuda.is_available() else 'cpu'"
   ]
  },
  {
   "cell_type": "markdown",
   "metadata": {},
   "source": [
    "## 1. Dataset Preparation and DNN Trainin"
   ]
  },
  {
   "cell_type": "markdown",
   "metadata": {},
   "source": [
    "### 1.1 MNIST Dataset"
   ]
  },
  {
   "cell_type": "code",
   "execution_count": 3,
   "metadata": {},
   "outputs": [
    {
     "name": "stderr",
     "output_type": "stream",
     "text": [
      "  0%|          | 0/9912422 [00:00<?, ?it/s]"
     ]
    },
    {
     "name": "stdout",
     "output_type": "stream",
     "text": [
      "Downloading http://yann.lecun.com/exdb/mnist/train-images-idx3-ubyte.gz to data/MNIST/raw/train-images-idx3-ubyte.gz\n"
     ]
    },
    {
     "name": "stderr",
     "output_type": "stream",
     "text": [
      "9920512it [00:01, 5574585.56it/s]                             \n"
     ]
    },
    {
     "name": "stdout",
     "output_type": "stream",
     "text": [
      "Extracting data/MNIST/raw/train-images-idx3-ubyte.gz to data/MNIST/raw\n"
     ]
    },
    {
     "name": "stderr",
     "output_type": "stream",
     "text": [
      "32768it [00:00, 276062.77it/s]                           \n",
      "0it [00:00, ?it/s]"
     ]
    },
    {
     "name": "stdout",
     "output_type": "stream",
     "text": [
      "Downloading http://yann.lecun.com/exdb/mnist/train-labels-idx1-ubyte.gz to data/MNIST/raw/train-labels-idx1-ubyte.gz\n",
      "Extracting data/MNIST/raw/train-labels-idx1-ubyte.gz to data/MNIST/raw\n",
      "Downloading http://yann.lecun.com/exdb/mnist/t10k-images-idx3-ubyte.gz to data/MNIST/raw/t10k-images-idx3-ubyte.gz\n"
     ]
    },
    {
     "name": "stderr",
     "output_type": "stream",
     "text": [
      "1654784it [00:00, 5005284.00it/s]                           \n",
      "8192it [00:00, 169280.64it/s]\n"
     ]
    },
    {
     "name": "stdout",
     "output_type": "stream",
     "text": [
      "Extracting data/MNIST/raw/t10k-images-idx3-ubyte.gz to data/MNIST/raw\n",
      "Downloading http://yann.lecun.com/exdb/mnist/t10k-labels-idx1-ubyte.gz to data/MNIST/raw/t10k-labels-idx1-ubyte.gz\n",
      "Extracting data/MNIST/raw/t10k-labels-idx1-ubyte.gz to data/MNIST/raw\n",
      "Processing...\n",
      "Done!\n"
     ]
    }
   ],
   "source": [
    "mnist_train = dsets.MNIST(root='data/',\n",
    "                          train=True,\n",
    "                          transform=transforms.ToTensor(),\n",
    "                          download=True)\n",
    "\n",
    "mnist_test = dsets.MNIST(root='data/',\n",
    "                         train=False,\n",
    "                         transform=transforms.ToTensor(),\n",
    "                         download=True)"
   ]
  },
  {
   "cell_type": "code",
   "execution_count": 4,
   "metadata": {},
   "outputs": [],
   "source": [
    "batch_size = 128\n",
    "\n",
    "train_loader  = torch.utils.data.DataLoader(dataset=mnist_train,\n",
    "                                           batch_size=batch_size,\n",
    "                                           shuffle=False)\n",
    "\n",
    "test_loader = torch.utils.data.DataLoader(dataset=mnist_test,\n",
    "                                         batch_size=batch_size,\n",
    "                                         shuffle=False)"
   ]
  },
  {
   "cell_type": "markdown",
   "metadata": {},
   "source": [
    "### 1.2 Define Model"
   ]
  },
  {
   "cell_type": "code",
   "execution_count": 5,
   "metadata": {},
   "outputs": [],
   "source": [
    "class CNN(nn.Module):\n",
    "    def __init__(self):\n",
    "        super(CNN, self).__init__()\n",
    "        \n",
    "        self.layer = nn.Sequential(\n",
    "            nn.Conv2d(1,16,5),\n",
    "            nn.ReLU(),\n",
    "            nn.Conv2d(16,32,5),\n",
    "            nn.ReLU(),\n",
    "            nn.MaxPool2d(2,2),\n",
    "            nn.Conv2d(32,64,5),\n",
    "            nn.ReLU(),\n",
    "            nn.MaxPool2d(2,2)\n",
    "        )\n",
    "        \n",
    "        self.fc_layer = nn.Sequential(\n",
    "            nn.Linear(64*3*3,100),\n",
    "            nn.ReLU(),\n",
    "            nn.Linear(100,10)\n",
    "        )       \n",
    "        \n",
    "    def forward(self,x):\n",
    "        out = self.layer(x)\n",
    "        out = out.view(-1,64*3*3)\n",
    "        out = self.fc_layer(out)\n",
    "\n",
    "        return out"
   ]
  },
  {
   "cell_type": "code",
   "execution_count": 6,
   "metadata": {},
   "outputs": [
    {
     "name": "stdout",
     "output_type": "stream",
     "text": [
      "Train on GPU...\n"
     ]
    }
   ],
   "source": [
    "model = CNN().to(device)\n",
    "if device =='cuda':\n",
    "    print(\"Train on GPU...\")\n",
    "else:\n",
    "    print(\"Train on CPU...\")"
   ]
  },
  {
   "cell_type": "code",
   "execution_count": 7,
   "metadata": {},
   "outputs": [],
   "source": [
    "loss = nn.CrossEntropyLoss()\n",
    "optimizer = optim.Adam(model.parameters(), lr=0.001)"
   ]
  },
  {
   "cell_type": "markdown",
   "metadata": {},
   "source": [
    "### 1.3 Normal training"
   ]
  },
  {
   "cell_type": "code",
   "execution_count": 8,
   "metadata": {},
   "outputs": [
    {
     "name": "stdout",
     "output_type": "stream",
     "text": [
      "start training\n",
      "Epoch [1/5], lter [100/468], Loss: 0.2202\n",
      "Epoch [1/5], lter [200/468], Loss: 0.1322\n",
      "Epoch [1/5], lter [300/468], Loss: 0.0873\n",
      "Epoch [1/5], lter [400/468], Loss: 0.0469\n",
      "Epoch [2/5], lter [100/468], Loss: 0.0375\n",
      "Epoch [2/5], lter [200/468], Loss: 0.1059\n",
      "Epoch [2/5], lter [300/468], Loss: 0.0568\n",
      "Epoch [2/5], lter [400/468], Loss: 0.0073\n",
      "Epoch [3/5], lter [100/468], Loss: 0.0249\n",
      "Epoch [3/5], lter [200/468], Loss: 0.1035\n",
      "Epoch [3/5], lter [300/468], Loss: 0.0458\n",
      "Epoch [3/5], lter [400/468], Loss: 0.0053\n",
      "Epoch [4/5], lter [100/468], Loss: 0.0111\n",
      "Epoch [4/5], lter [200/468], Loss: 0.0908\n",
      "Epoch [4/5], lter [300/468], Loss: 0.0452\n",
      "Epoch [4/5], lter [400/468], Loss: 0.0029\n",
      "Epoch [5/5], lter [100/468], Loss: 0.0065\n",
      "Epoch [5/5], lter [200/468], Loss: 0.0918\n",
      "Epoch [5/5], lter [300/468], Loss: 0.0331\n",
      "Epoch [5/5], lter [400/468], Loss: 0.0022\n",
      "training finished\n",
      "the total running time is: 31.159525156021118\n"
     ]
    }
   ],
   "source": [
    "num_epochs = 5\n",
    "print('start training')\n",
    "start = time.time()\n",
    "for epoch in range(num_epochs):\n",
    "    total_batch = len(mnist_train) // batch_size\n",
    "    for i, (batch_images, batch_labels) in enumerate(train_loader):\n",
    "        X = batch_images.to(device)\n",
    "        Y = batch_labels.to(device)\n",
    "        pre = model(X)\n",
    "        cost = loss(pre, Y)\n",
    "        optimizer.zero_grad()\n",
    "        cost.backward()\n",
    "        optimizer.step()\n",
    "        if (i+1) % 100 == 0:\n",
    "            print('Epoch [%d/%d], lter [%d/%d], Loss: %.4f'\n",
    "                 %(epoch+1, num_epochs, i+1, total_batch, cost.item()))\n",
    "print('training finished')\n",
    "end = time.time()\n",
    "print ('the total running time is:', end - start)\n",
    "torch.save(model.state_dict(),'normal_model.pt')"
   ]
  },
  {
   "cell_type": "markdown",
   "metadata": {},
   "source": [
    "### 1.4 Accuracy on clean images"
   ]
  },
  {
   "cell_type": "code",
   "execution_count": 10,
   "metadata": {},
   "outputs": [
    {
     "name": "stdout",
     "output_type": "stream",
     "text": [
      "Accuracy of Clean images: 98.510000 %\n"
     ]
    }
   ],
   "source": [
    "model.eval()\n",
    "\n",
    "correct = 0\n",
    "total = 0\n",
    "\n",
    "for images, labels in test_loader:\n",
    "    \n",
    "    images = images.to(device)\n",
    "    outputs = model(images)\n",
    "    \n",
    "    _, predicted = torch.max(outputs.data, 1)\n",
    "    \n",
    "    total += labels.size(0)\n",
    "    correct += (predicted == labels.cuda()).sum()\n",
    "    \n",
    "print('Accuracy of Clean images: %f %%' % (100 * float(correct) / total))"
   ]
  },
  {
   "cell_type": "markdown",
   "metadata": {},
   "source": [
    "## 2. Generating adversarial examples"
   ]
  },
  {
   "cell_type": "code",
   "execution_count": 19,
   "metadata": {},
   "outputs": [
    {
     "name": "stdout",
     "output_type": "stream",
     "text": [
      "tensor([7, 2, 1, 0, 4], device='cuda:0')\n",
      "tensor([7, 2, 1, 0, 9], device='cuda:0')\n"
     ]
    },
    {
     "data": {
      "image/png": "[encoded data removed]",
      "text/plain": [
       "<Figure size 108x108 with 1 Axes>"
      ]
     },
     "metadata": {
      "needs_background": "light"
     },
     "output_type": "display_data"
    },
    {
     "data": {
      "image/png": "[encoded data removed]",
      "text/plain": [
       "<Figure size 108x108 with 1 Axes>"
      ]
     },
     "metadata": {
      "needs_background": "light"
     },
     "output_type": "display_data"
    },
    {
     "data": {
      "image/png": "[encoded data removed]",
      "text/plain": [
       "<Figure size 108x108 with 1 Axes>"
      ]
     },
     "metadata": {
      "needs_background": "light"
     },
     "output_type": "display_data"
    },
    {
     "data": {
      "image/png": "[encoded data removed]",
      "text/plain": [
       "<Figure size 108x108 with 1 Axes>"
      ]
     },
     "metadata": {
      "needs_background": "light"
     },
     "output_type": "display_data"
    },
    {
     "data": {
      "image/png": "[encoded data removed]",
      "text/plain": [
       "<Figure size 108x108 with 1 Axes>"
      ]
     },
     "metadata": {
      "needs_background": "light"
     },
     "output_type": "display_data"
    },
    {
     "data": {
      "image/png": "[encoded data removed]",
      "text/plain": [
       "<Figure size 108x108 with 1 Axes>"
      ]
     },
     "metadata": {
      "needs_background": "light"
     },
     "output_type": "display_data"
    },
    {
     "data": {
      "image/png": "[encoded data removed]",
      "text/plain": [
       "<Figure size 108x108 with 1 Axes>"
      ]
     },
     "metadata": {
      "needs_background": "light"
     },
     "output_type": "display_data"
    },
    {
     "data": {
      "image/png": "[encoded data removed]",
      "text/plain": [
       "<Figure size 108x108 with 1 Axes>"
      ]
     },
     "metadata": {
      "needs_background": "light"
     },
     "output_type": "display_data"
    },
    {
     "data": {
      "image/png": "[encoded data removed]",
      "text/plain": [
       "<Figure size 108x108 with 1 Axes>"
      ]
     },
     "metadata": {
      "needs_background": "light"
     },
     "output_type": "display_data"
    },
    {
     "data": {
      "image/png": "[encoded data removed]",
      "text/plain": [
       "<Figure size 108x108 with 1 Axes>"
      ]
     },
     "metadata": {
      "needs_background": "light"
     },
     "output_type": "display_data"
    }
   ],
   "source": [
    "import matplotlib.pyplot as plt\n",
    "%matplotlib inline\n",
    "\n",
    "\n",
    "model = CNN().to(device)\n",
    "model.load_state_dict(torch.load(\"normal_model.pt\"))\n",
    "fgsm_attack = FGSM(model, eps=0.1)\n",
    "\n",
    "images, labels = next(iter(test_loader))\n",
    "images = images[:5].to(device)\n",
    "labels = labels[:5].to(device)\n",
    "adver_images = fgsm_attack(images, labels).to(device)\n",
    "\n",
    "outputs = model(adver_images)\n",
    "_, predicted = torch.max(outputs.data, 1)\n",
    "print(labels)\n",
    "print(predicted)\n",
    "for i,_ in enumerate(labels):\n",
    "    plt.figure(figsize=(1.5,1.5))\n",
    "    plt.imshow(images[i][0].cpu().detach().numpy(), cmap='gray')\n",
    "    plt.figure(figsize=(1.5,1.5))\n",
    "    plt.imshow(adver_images[i][0].cpu().detach().numpy(), cmap='gray')"
   ]
  },
  {
   "cell_type": "markdown",
   "metadata": {},
   "source": [
    "## 3. Accuracy under Adversarial Attacks"
   ]
  },
  {
   "cell_type": "markdown",
   "metadata": {},
   "source": [
    "### 3.1 FGSM"
   ]
  },
  {
   "cell_type": "code",
   "execution_count": 28,
   "metadata": {},
   "outputs": [
    {
     "name": "stdout",
     "output_type": "stream",
     "text": [
      "Accuracy of Adversarial images: 98.510000 % eps = 0.0\n",
      "Accuracy of Adversarial images: 97.250000 % eps = 0.02\n",
      "Accuracy of Adversarial images: 95.510000 % eps = 0.04\n",
      "Accuracy of Adversarial images: 92.740000 % eps = 0.06\n",
      "Accuracy of Adversarial images: 89.160000 % eps = 0.08\n",
      "Accuracy of Adversarial images: 84.080000 % eps = 0.1\n",
      "Accuracy of Adversarial images: 78.340000 % eps = 0.12\n",
      "Accuracy of Adversarial images: 71.080000 % eps = 0.14\n",
      "Accuracy of Adversarial images: 62.830000 % eps = 0.16\n",
      "Accuracy of Adversarial images: 54.040000 % eps = 0.18\n",
      "Accuracy of Adversarial images: 45.550000 % eps = 0.2\n",
      "Accuracy of Adversarial images: 38.010000 % eps = 0.22\n",
      "Accuracy of Adversarial images: 31.620000 % eps = 0.24\n",
      "Accuracy of Adversarial images: 26.710000 % eps = 0.26\n",
      "Accuracy of Adversarial images: 22.920000 % eps = 0.28\n",
      "Accuracy of Adversarial images: 19.680000 % eps = 0.3\n",
      "Runtime (ticks) = 17.833423614501953\n"
     ]
    }
   ],
   "source": [
    "model.eval()\n",
    "\n",
    "start_time = time.time()\n",
    "for i in range(0,32,2):\n",
    "\n",
    "    correct = 0\n",
    "    total = 0\n",
    "\n",
    "    fgsm_attack = FGSM(model,eps=i/100)#0.2)\n",
    "\n",
    "    for images, labels in test_loader:\n",
    "\n",
    "        images = fgsm_attack(images, labels).to(device)\n",
    "        outputs = model(images)\n",
    "\n",
    "        _, predicted = torch.max(outputs.data, 1)\n",
    "\n",
    "        total += labels.size(0)\n",
    "        correct += (predicted == labels.cuda()).sum()\n",
    "\n",
    "    print('Accuracy of Adversarial images: %f %%' % (100 * float(correct) / total), \"eps =\",i/100)\n",
    "print(\"Runtime (ticks) =\", time.time() - start_time)"
   ]
  },
  {
   "cell_type": "markdown",
   "metadata": {},
   "source": [
    "### 3.2 PGD"
   ]
  },
  {
   "cell_type": "code",
   "execution_count": 29,
   "metadata": {},
   "outputs": [
    {
     "name": "stdout",
     "output_type": "stream",
     "text": [
      "Accuracy of Adversarial images: 98.510000 % eps = 0.0\n",
      "Accuracy of Adversarial images: 97.230000 % eps = 0.02\n",
      "Accuracy of Adversarial images: 95.280000 % eps = 0.04\n",
      "Accuracy of Adversarial images: 91.780000 % eps = 0.06\n",
      "Accuracy of Adversarial images: 86.020000 % eps = 0.08\n",
      "Accuracy of Adversarial images: 77.420000 % eps = 0.1\n",
      "Accuracy of Adversarial images: 65.180000 % eps = 0.12\n",
      "Accuracy of Adversarial images: 49.330000 % eps = 0.14\n",
      "Accuracy of Adversarial images: 34.880000 % eps = 0.16\n",
      "Accuracy of Adversarial images: 23.820000 % eps = 0.18\n",
      "Accuracy of Adversarial images: 15.280000 % eps = 0.2\n",
      "Accuracy of Adversarial images: 9.110000 % eps = 0.22\n",
      "Accuracy of Adversarial images: 5.100000 % eps = 0.24\n",
      "Accuracy of Adversarial images: 2.660000 % eps = 0.26\n",
      "Accuracy of Adversarial images: 1.350000 % eps = 0.28\n",
      "Accuracy of Adversarial images: 0.630000 % eps = 0.3\n",
      "Runtime (ticks) = 157.01905417442322\n"
     ]
    }
   ],
   "source": [
    "model.eval()\n",
    "\n",
    "start_time = time.time()\n",
    "for i in range(0,32,2):\n",
    "    correct = 0\n",
    "    total = 0\n",
    "\n",
    "    pgd_attack = RPGD(model,eps=i/100)#0.2)\n",
    "\n",
    "    for images, labels in test_loader:\n",
    "\n",
    "        images = pgd_attack(images, labels).to(device)\n",
    "        outputs = model(images)\n",
    "\n",
    "        _, predicted = torch.max(outputs.data, 1)\n",
    "\n",
    "        total += labels.size(0)\n",
    "        correct += (predicted == labels.cuda()).sum()\n",
    "\n",
    "    print('Accuracy of Adversarial images: %f %%' % (100 * float(correct) / total), \"eps =\",i/100)\n",
    "print(\"Runtime (ticks) =\", time.time() - start_time)"
   ]
  },
  {
   "cell_type": "markdown",
   "metadata": {},
   "source": [
    "## 4. Train Model using adversarial training"
   ]
  },
  {
   "cell_type": "markdown",
   "metadata": {},
   "source": [
    "### 4.1 Training with PGD"
   ]
  },
  {
   "cell_type": "code",
   "execution_count": 36,
   "metadata": {},
   "outputs": [],
   "source": [
    "num_epochs = 5\n",
    "model = CNN().to(device)\n",
    "pgd_attack = RPGD(model, eps=0.2, iters=20)\n",
    "loss = nn.CrossEntropyLoss()\n",
    "optimizer = optim.Adam(model.parameters(), lr=0.001)"
   ]
  },
  {
   "cell_type": "code",
   "execution_count": 37,
   "metadata": {
    "scrolled": true
   },
   "outputs": [
    {
     "name": "stdout",
     "output_type": "stream",
     "text": [
      "start training\n",
      "Epoch [1/5], lter [100/468], Loss: 1.2008\n",
      "Epoch [1/5], lter [200/468], Loss: 0.6103\n",
      "Epoch [1/5], lter [300/468], Loss: 0.7436\n",
      "Epoch [1/5], lter [400/468], Loss: 0.4729\n",
      "Epoch [2/5], lter [100/468], Loss: 0.4027\n",
      "Epoch [2/5], lter [200/468], Loss: 0.3476\n",
      "Epoch [2/5], lter [300/468], Loss: 0.4655\n",
      "Epoch [2/5], lter [400/468], Loss: 0.2379\n",
      "Epoch [3/5], lter [100/468], Loss: 0.3272\n",
      "Epoch [3/5], lter [200/468], Loss: 0.2831\n",
      "Epoch [3/5], lter [300/468], Loss: 0.3523\n",
      "Epoch [3/5], lter [400/468], Loss: 0.2059\n",
      "Epoch [4/5], lter [100/468], Loss: 0.2831\n",
      "Epoch [4/5], lter [200/468], Loss: 0.2518\n",
      "Epoch [4/5], lter [300/468], Loss: 0.3131\n",
      "Epoch [4/5], lter [400/468], Loss: 0.1490\n",
      "Epoch [5/5], lter [100/468], Loss: 0.2391\n",
      "Epoch [5/5], lter [200/468], Loss: 0.2216\n",
      "Epoch [5/5], lter [300/468], Loss: 0.2617\n",
      "Epoch [5/5], lter [400/468], Loss: 0.1131\n",
      "training finished\n",
      "the total running time is: 169.56827402114868\n"
     ]
    }
   ],
   "source": [
    "print('start training')\n",
    "model.train()\n",
    "start = time.time()\n",
    "for epoch in range(num_epochs):\n",
    "    total_batch = len(mnist_train) // batch_size\n",
    "    for i, (batch_images, batch_labels) in enumerate(train_loader):\n",
    "        X = pgd_attack(batch_images, batch_labels).to(device)\n",
    "        Y = batch_labels.to(device)\n",
    "        pre = model(X)\n",
    "        cost = loss(pre, Y)\n",
    "        optimizer.zero_grad()\n",
    "        cost.backward()\n",
    "        optimizer.step()\n",
    "        if (i+1) % 100 == 0:\n",
    "            print('Epoch [%d/%d], lter [%d/%d], Loss: %.4f'\n",
    "                 %(epoch+1, num_epochs, i+1, total_batch, cost.item()))\n",
    "print('training finished')\n",
    "end = time.time()\n",
    "print ('the total running time is:', end - start)\n",
    "torch.save(model.state_dict(),'adver_training_model.pt')"
   ]
  },
  {
   "cell_type": "markdown",
   "metadata": {},
   "source": [
    "### 4.2 Test on clean images"
   ]
  },
  {
   "cell_type": "code",
   "execution_count": 38,
   "metadata": {},
   "outputs": [
    {
     "name": "stdout",
     "output_type": "stream",
     "text": [
      "Accuracy of Clean images: 98.800000 %\n"
     ]
    }
   ],
   "source": [
    "model = CNN().to(device)\n",
    "model.load_state_dict(torch.load(\"adver_training_model.pt\"))\n",
    "model.eval()\n",
    "correct = 0\n",
    "total = 0\n",
    "\n",
    "for images, labels in test_loader:\n",
    "    \n",
    "    images = images.to(device)\n",
    "    outputs = model(images)\n",
    "    \n",
    "    _, predicted = torch.max(outputs.data, 1)\n",
    "    \n",
    "    total += labels.size(0)\n",
    "    correct += (predicted == labels.cuda()).sum()\n",
    "    \n",
    "print('Accuracy of Clean images: %f %%' % (100 * float(correct) / total))"
   ]
  },
  {
   "cell_type": "markdown",
   "metadata": {},
   "source": [
    "## 5. Test on Adversarial images"
   ]
  },
  {
   "cell_type": "code",
   "execution_count": 41,
   "metadata": {},
   "outputs": [
    {
     "name": "stdout",
     "output_type": "stream",
     "text": [
      "Accuracy of Adversarial images: 99.000000 % eps = 0.0\n",
      "Accuracy of Adversarial images: 98.620000 % eps = 0.02\n",
      "Accuracy of Adversarial images: 98.160000 % eps = 0.04\n",
      "Accuracy of Adversarial images: 97.430000 % eps = 0.06\n",
      "Accuracy of Adversarial images: 96.110000 % eps = 0.08\n",
      "Accuracy of Adversarial images: 94.580000 % eps = 0.1\n",
      "Accuracy of Adversarial images: 92.080000 % eps = 0.12\n",
      "Accuracy of Adversarial images: 88.140000 % eps = 0.14\n",
      "Accuracy of Adversarial images: 82.020000 % eps = 0.16\n",
      "Accuracy of Adversarial images: 73.810000 % eps = 0.18\n",
      "Accuracy of Adversarial images: 63.000000 % eps = 0.2\n",
      "Accuracy of Adversarial images: 49.160000 % eps = 0.22\n",
      "Accuracy of Adversarial images: 34.940000 % eps = 0.24\n",
      "Accuracy of Adversarial images: 23.430000 % eps = 0.26\n",
      "Accuracy of Adversarial images: 15.380000 % eps = 0.28\n",
      "Accuracy of Adversarial images: 10.050000 % eps = 0.3\n"
     ]
    }
   ],
   "source": [
    "model = CNN().to(device)\n",
    "model.load_state_dict(torch.load(\"adver_training_model_eps=0.05.pt\"))\n",
    "model.eval()\n",
    "\n",
    "for i in range(0,32,2):\n",
    "    correct = 0\n",
    "    total = 0\n",
    "\n",
    "    pgd_attack = RPGD(model,eps=i/100)#0.2)\n",
    "\n",
    "    for images, labels in test_loader:\n",
    "\n",
    "        images = pgd_attack(images, labels).to(device)\n",
    "        outputs = model(images)\n",
    "\n",
    "        _, predicted = torch.max(outputs.data, 1)\n",
    "\n",
    "        total += labels.size(0)\n",
    "        correct += (predicted == labels.cuda()).sum()\n",
    "\n",
    "    print('Accuracy of Adversarial images: %f %%' % (100 * float(correct) / total), \"eps =\",i/100)"
   ]
  },
  {
   "cell_type": "code",
   "execution_count": null,
   "metadata": {},
   "outputs": [],
   "source": []
  }
 ],
 "metadata": {
  "kernelspec": {
   "display_name": "Python 3",
   "language": "python",
   "name": "python3"
  },
  "language_info": {
   "codemirror_mode": {
    "name": "ipython",
    "version": 3
   },
   "file_extension": ".py",
   "mimetype": "text/x-python",
   "name": "python",
   "nbconvert_exporter": "python",
   "pygments_lexer": "ipython3",
   "version": "3.5.2"
  }
 },
 "nbformat": 4,
 "nbformat_minor": 2
}
